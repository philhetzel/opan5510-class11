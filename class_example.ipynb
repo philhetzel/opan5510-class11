{
 "cells": [
  {
   "cell_type": "markdown",
   "metadata": {},
   "source": [
    "# SQL Fundamentals: Using SQL with Polars\n",
    "\n",
    "This notebook introduces SQL using Polars' built-in SQL functionality. No external database needed!"
   ]
  },
  {
   "cell_type": "code",
   "execution_count": null,
   "metadata": {},
   "outputs": [],
   "source": [
    "# Import necessary libraries\n",
    "import polars as pl\n",
    "\n",
    "# Set display options\n",
    "pl.Config.set_tbl_rows(10)\n",
    "pl.Config.set_fmt_str_lengths(50)\n",
    "\n",
    "print(\"Setup complete! Let's learn SQL with Polars.\")"
   ]
  },
  {
   "cell_type": "markdown",
   "metadata": {},
   "source": [
    "## 1. Loading Data and Creating SQL Context\n",
    "\n",
    "First, let's load our NYC airports data and create a SQL context."
   ]
  },
  {
   "cell_type": "code",
   "execution_count": null,
   "metadata": {},
   "outputs": [],
   "source": [
    "# Read CSV files with Polars\n",
    "airlines = pl.read_csv('https://raw.githubusercontent.com/philhetzel/opan5510-class11/refs/heads/main/data/nyc_airlines.csv')\n",
    "airports = pl.read_csv('https://raw.githubusercontent.com/philhetzel/opan5510-class11/refs/heads/main/data/nyc_airports.csv')\n",
    "flights = pl.read_csv('https://raw.githubusercontent.com/philhetzel/opan5510-class11/refs/heads/main/data/nyc_flights.csv')\n",
    "planes = pl.read_csv('https://raw.githubusercontent.com/philhetzel/opan5510-class11/refs/heads/main/data/nyc_planes.csv')\n",
    "weather = pl.read_csv('https://raw.githubusercontent.com/philhetzel/opan5510-class11/refs/heads/main/data/nyc_weather.csv')\n",
    "\n",
    "# Display basic info about each dataset\n",
    "print(\"Airlines:\", airlines.shape)\n",
    "print(\"Airports:\", airports.shape)\n",
    "print(\"Flights:\", flights.shape)\n",
    "print(\"Planes:\", planes.shape)\n",
    "print(\"Weather:\", weather.shape)"
   ]
  },
  {
   "cell_type": "code",
   "execution_count": null,
   "metadata": {},
   "outputs": [],
   "source": [
    "# Create SQL context and register our DataFrames\n",
    "ctx = pl.SQLContext(\n",
    "    airlines=airlines,\n",
    "    airports=airports,\n",
    "    flights=flights,\n",
    "    planes=planes,\n",
    "    weather=weather,\n",
    "    eager_execution=True  # This makes queries return DataFrames instead of LazyFrames\n",
    ")\n",
    "\n",
    "print(\"SQL Context created! Tables available:\")\n",
    "print(ctx.execute(\"SHOW TABLES\"))"
   ]
  },
  {
   "cell_type": "markdown",
   "metadata": {},
   "source": [
    "## 2. Basic SQL: SELECT and FROM\n",
    "\n",
    "The most fundamental SQL operation is selecting data from a table."
   ]
  },
  {
   "cell_type": "code",
   "execution_count": null,
   "metadata": {},
   "outputs": [],
   "source": [
    "# Polars: Select all columns\n",
    "print(\"Polars - Select all columns:\")\n",
    "print(airlines.head(5))\n",
    "print()\n",
    "\n",
    "# SQL equivalent\n",
    "print(\"SQL - Select all columns:\")\n",
    "result = ctx.execute(\"\"\"\n",
    "    SELECT * \n",
    "    FROM airlines\n",
    "    LIMIT 5\n",
    "\"\"\")\n",
    "print(result)"
   ]
  },
  {
   "cell_type": "code",
   "execution_count": null,
   "metadata": {},
   "outputs": [],
   "source": [
    "# Polars: Select specific columns\n",
    "print(\"Polars - Select specific columns:\")\n",
    "print(airlines.select(['carrier', 'name']).head(5))\n",
    "print()\n",
    "\n",
    "# SQL equivalent\n",
    "print(\"SQL - Select specific columns:\")\n",
    "result = ctx.execute(\"\"\"\n",
    "    SELECT carrier, name \n",
    "    FROM airlines\n",
    "    LIMIT 5\n",
    "\"\"\")\n",
    "print(result)"
   ]
  },
  {
   "cell_type": "markdown",
   "metadata": {},
   "source": [
    "## 3. Filtering Data: WHERE Clause\n",
    "\n",
    "In SQL, we use WHERE to filter rows, similar to Polars' filter() method."
   ]
  },
  {
   "cell_type": "code",
   "execution_count": null,
   "metadata": {},
   "outputs": [],
   "source": [
    "# Polars: Filter flights from JFK\n",
    "print(\"Polars - Flights from JFK:\")\n",
    "jfk_flights_polars = flights.filter(pl.col('origin') == 'JFK')\n",
    "print(f\"Number of JFK flights: {len(jfk_flights_polars)}\")\n",
    "print(jfk_flights_polars.head(5))\n",
    "print()\n",
    "\n",
    "# SQL equivalent\n",
    "print(\"SQL - Flights from JFK:\")\n",
    "result = ctx.execute(\"\"\"\n",
    "    SELECT * \n",
    "    FROM flights\n",
    "    WHERE origin = 'JFK'\n",
    "    LIMIT 5\n",
    "\"\"\")\n",
    "print(result)"
   ]
  },
  {
   "cell_type": "code",
   "execution_count": null,
   "metadata": {},
   "outputs": [],
   "source": [
    "# Multiple conditions\n",
    "print(\"Polars - Delayed flights from JFK:\")\n",
    "delayed_jfk_polars = flights.filter(\n",
    "    (pl.col('origin') == 'JFK') & \n",
    "    (pl.col('dep_delay') > 30)\n",
    ")\n",
    "print(f\"Number of delayed JFK flights: {len(delayed_jfk_polars)}\")\n",
    "print()\n",
    "\n",
    "# SQL equivalent\n",
    "print(\"SQL - Delayed flights from JFK:\")\n",
    "result = ctx.execute(\"\"\"\n",
    "    SELECT COUNT(*) as count\n",
    "    FROM flights\n",
    "    WHERE origin = 'JFK' \n",
    "      AND dep_delay > 30\n",
    "\"\"\")\n",
    "print(result)"
   ]
  },
  {
   "cell_type": "markdown",
   "metadata": {},
   "source": [
    "## 4. Sorting Data: ORDER BY\n",
    "\n",
    "SQL uses ORDER BY to sort results, similar to Polars' sort() method."
   ]
  },
  {
   "cell_type": "code",
   "execution_count": null,
   "metadata": {},
   "outputs": [],
   "source": [
    "# Polars: Sort by departure delay\n",
    "print(\"Polars - Most delayed flights:\")\n",
    "most_delayed_polars = flights.sort('dep_delay', descending=True).head(10)\n",
    "print(most_delayed_polars.select(['carrier', 'flight', 'origin', 'dest', 'dep_delay']))\n",
    "print()\n",
    "\n",
    "# SQL equivalent\n",
    "print(\"SQL - Most delayed flights:\")\n",
    "result = ctx.execute(\"\"\"\n",
    "    SELECT carrier, flight, origin, dest, dep_delay\n",
    "    FROM flights\n",
    "    WHERE dep_delay IS NOT NULL\n",
    "    ORDER BY dep_delay DESC\n",
    "    LIMIT 10\n",
    "\"\"\")\n",
    "print(result)"
   ]
  },
  {
   "cell_type": "markdown",
   "metadata": {},
   "source": [
    "## 5. Aggregation: GROUP BY and Aggregate Functions\n",
    "\n",
    "SQL aggregation uses GROUP BY with functions like COUNT, SUM, AVG, etc."
   ]
  },
  {
   "cell_type": "code",
   "execution_count": null,
   "metadata": {},
   "outputs": [],
   "source": [
    "# Polars: Average delay by carrier\n",
    "print(\"Polars - Average delay by carrier:\")\n",
    "avg_delay_polars = (\n",
    "    flights\n",
    "    .group_by('carrier')\n",
    "    .agg([\n",
    "        pl.col('dep_delay').mean().alias('avg_delay'),\n",
    "        pl.len().alias('flight_count')\n",
    "    ])\n",
    "    .sort('avg_delay', descending=True)\n",
    ")\n",
    "print(avg_delay_polars)\n",
    "print()\n",
    "\n",
    "# SQL equivalent\n",
    "print(\"SQL - Average delay by carrier:\")\n",
    "result = ctx.execute(\"\"\"\n",
    "    SELECT \n",
    "        carrier,\n",
    "        AVG(dep_delay) as avg_delay,\n",
    "        COUNT(*) as flight_count\n",
    "    FROM flights\n",
    "    WHERE dep_delay IS NOT NULL\n",
    "    GROUP BY carrier\n",
    "    ORDER BY avg_delay DESC\n",
    "\"\"\")\n",
    "print(result)"
   ]
  },
  {
   "cell_type": "code",
   "execution_count": null,
   "metadata": {},
   "outputs": [],
   "source": [
    "# Multiple aggregations\n",
    "print(\"SQL - Comprehensive carrier statistics:\")\n",
    "result = ctx.execute(\"\"\"\n",
    "    SELECT \n",
    "        carrier,\n",
    "        COUNT(*) as total_flights,\n",
    "        AVG(dep_delay) as avg_dep_delay,\n",
    "        MAX(dep_delay) as max_dep_delay,\n",
    "        MIN(dep_delay) as min_dep_delay,\n",
    "        SUM(CASE WHEN dep_delay > 30 THEN 1 ELSE 0 END) as delayed_flights\n",
    "    FROM flights\n",
    "    WHERE dep_delay IS NOT NULL\n",
    "    GROUP BY carrier\n",
    "    HAVING COUNT(*) > 1000  -- Only carriers with more than 1000 flights\n",
    "    ORDER BY avg_dep_delay DESC\n",
    "\"\"\")\n",
    "print(result)"
   ]
  },
  {
   "cell_type": "markdown",
   "metadata": {},
   "source": [
    "## 6. Joining Tables\n",
    "\n",
    "SQL joins are similar to Polars joins but with different syntax."
   ]
  },
  {
   "cell_type": "code",
   "execution_count": null,
   "metadata": {},
   "outputs": [],
   "source": [
    "# Polars: Join flights with airlines\n",
    "print(\"Polars - Flights with airline names:\")\n",
    "flights_airlines_polars = (\n",
    "    flights\n",
    "    .join(airlines, on='carrier', how='left')\n",
    "    .select(['carrier', 'name', 'flight', 'origin', 'dest'])\n",
    "    .head(10)\n",
    ")\n",
    "print(flights_airlines_polars)\n",
    "print()\n",
    "\n",
    "# SQL equivalent\n",
    "print(\"SQL - Flights with airline names:\")\n",
    "result = ctx.execute(\"\"\"\n",
    "    SELECT \n",
    "        f.carrier,\n",
    "        a.name,\n",
    "        f.flight,\n",
    "        f.origin,\n",
    "        f.dest\n",
    "    FROM flights f\n",
    "    LEFT JOIN airlines a ON f.carrier = a.carrier\n",
    "    LIMIT 10\n",
    "\"\"\")\n",
    "print(result)"
   ]
  },
  {
   "cell_type": "code",
   "execution_count": null,
   "metadata": {},
   "outputs": [],
   "source": [
    "# Multiple joins\n",
    "print(\"SQL - Flights with airline and destination airport info:\")\n",
    "result = ctx.execute(\"\"\"\n",
    "    SELECT \n",
    "        f.flight,\n",
    "        a.name as airline_name,\n",
    "        f.origin,\n",
    "        ap.name as destination_airport,\n",
    "        ap.city as destination_city,\n",
    "        f.dep_delay\n",
    "    FROM flights f\n",
    "    LEFT JOIN airlines a ON f.carrier = a.carrier\n",
    "    LEFT JOIN airports ap ON f.dest = ap.faa\n",
    "    WHERE f.dep_delay > 60\n",
    "    ORDER BY f.dep_delay DESC\n",
    "    LIMIT 10\n",
    "\"\"\")\n",
    "print(result)"
   ]
  },
  {
   "cell_type": "markdown",
   "metadata": {},
   "source": [
    "## 7. Join Types Comparison\n",
    "\n",
    "Let's explore different join types with a practical example."
   ]
  },
  {
   "cell_type": "code",
   "execution_count": null,
   "metadata": {},
   "outputs": [],
   "source": [
    "# Inner Join - Only matching records\n",
    "print(\"INNER JOIN - Flights with plane info:\")\n",
    "result = ctx.execute(\"\"\"\n",
    "    SELECT COUNT(*) as flights_with_plane_info\n",
    "    FROM flights f\n",
    "    INNER JOIN planes p ON f.tailnum = p.tailnum\n",
    "\"\"\")\n",
    "print(result)\n",
    "\n",
    "# Left Join - All flights, with plane info where available\n",
    "print(\"\\nLEFT JOIN - All flights:\")\n",
    "result = ctx.execute(\"\"\"\n",
    "    SELECT COUNT(*) as total_flights\n",
    "    FROM flights f\n",
    "    LEFT JOIN planes p ON f.tailnum = p.tailnum\n",
    "\"\"\")\n",
    "print(result)\n",
    "\n",
    "# Flights without plane info\n",
    "print(\"\\nFlights without plane information:\")\n",
    "result = ctx.execute(\"\"\"\n",
    "    SELECT COUNT(*) as flights_no_plane_info\n",
    "    FROM flights f\n",
    "    LEFT JOIN planes p ON f.tailnum = p.tailnum\n",
    "    WHERE p.tailnum IS NULL\n",
    "\"\"\")\n",
    "print(result)"
   ]
  },
  {
   "cell_type": "markdown",
   "metadata": {},
   "source": [
    "## Bonus: Mixing SQL and Polars Operations\n",
    "\n",
    "One advantage of using Polars SQL is that you can seamlessly mix SQL queries with Polars operations."
   ]
  },
  {
   "cell_type": "code",
   "execution_count": null,
   "metadata": {},
   "outputs": [],
   "source": [
    "# Start with SQL query\n",
    "delayed_flights = ctx.execute(\"\"\"\n",
    "    SELECT *\n",
    "    FROM flights\n",
    "    WHERE dep_delay > 60\n",
    "\"\"\")\n",
    "\n",
    "# Continue with Polars operations\n",
    "result = (\n",
    "    delayed_flights\n",
    "    .group_by(['origin', 'carrier'])\n",
    "    .agg([\n",
    "        pl.col('dep_delay').mean().alias('avg_delay'),\n",
    "        pl.len().alias('count')\n",
    "    ])\n",
    "    .filter(pl.col('count') > 10)\n",
    "    .sort('avg_delay', descending=True)\n",
    "    .head(10)\n",
    ")\n",
    "\n",
    "print(\"Top origin-carrier combinations for severely delayed flights:\")\n",
    "print(result)"
   ]
  },
  {
   "cell_type": "markdown",
   "metadata": {},
   "source": [
    "## Summary: SQL vs Polars Quick Reference\n",
    "\n",
    "Here's a comparison of common operations:\n",
    "\n",
    "| Operation | Polars | SQL |\n",
    "|-----------|--------|-----|\n",
    "| Select all | `df` | `SELECT * FROM table` |\n",
    "| Select columns | `df.select(['col1', 'col2'])` | `SELECT col1, col2 FROM table` |\n",
    "| Filter | `df.filter(pl.col('x') > 5)` | `WHERE x > 5` |\n",
    "| Sort | `df.sort('col')` | `ORDER BY col` |\n",
    "| Group by | `df.group_by('col').agg(...)` | `GROUP BY col` |\n",
    "| Count | `pl.len()` | `COUNT(*)` |\n",
    "| Mean | `pl.col('x').mean()` | `AVG(x)` |\n",
    "| Sum | `pl.col('x').sum()` | `SUM(x)` |\n",
    "| Join | `df1.join(df2, on='key')` | `FROM df1 JOIN df2 ON df1.key = df2.key` |\n",
    "\n",
    "### Key Advantages of Polars SQL:\n",
    "1. No external database needed\n",
    "2. Seamlessly mix SQL and Polars operations\n",
    "3. All queries are optimized by Polars' query engine\n",
    "4. Results are always Polars DataFrames\n",
    "\n",
    "Practice these concepts in the lab exercise!"
   ]
  }
 ],
 "metadata": {
  "kernelspec": {
   "display_name": "Python 3",
   "language": "python",
   "name": "python3"
  },
  "language_info": {
   "codemirror_mode": {
    "name": "ipython",
    "version": 3
   },
   "file_extension": ".py",
   "mimetype": "text/x-python",
   "name": "python",
   "nbconvert_exporter": "python",
   "pygments_lexer": "ipython3",
   "version": "3.8.0"
  }
 },
 "nbformat": 4,
 "nbformat_minor": 4
}
