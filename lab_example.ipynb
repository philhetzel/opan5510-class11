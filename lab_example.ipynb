{
 "cells": [
  {
   "cell_type": "markdown",
   "metadata": {},
   "source": [
    "# Lab Exercise: SQL Analysis with Polars\n",
    "\n",
    "In this lab, you'll practice SQL queries using Polars' built-in SQL functionality. Complete each exercise by writing the appropriate SQL query."
   ]
  },
  {
   "cell_type": "code",
   "execution_count": null,
   "metadata": {},
   "outputs": [],
   "source": [
    "# Setup - Run this cell first\n",
    "import polars as pl\n",
    "\n",
    "# Load data\n",
    "airlines = pl.read_csv('https://raw.githubusercontent.com/philhetzel/opan5510-class11/refs/heads/main/data/nyc_airlines.csv')\n",
    "airports = pl.read_csv('https://raw.githubusercontent.com/philhetzel/opan5510-class11/refs/heads/main/data/nyc_airports.csv')\n",
    "flights = pl.read_csv('https://raw.githubusercontent.com/philhetzel/opan5510-class11/refs/heads/main/data/nyc_flights.csv')\n",
    "planes = pl.read_csv('https://raw.githubusercontent.com/philhetzel/opan5510-class11/refs/heads/main/data/nyc_planes.csv')\n",
    "weather = pl.read_csv('https://raw.githubusercontent.com/philhetzel/opan5510-class11/refs/heads/main/data/nyc_weather.csv')\n",
    "\n",
    "flights = flights.with_columns(pl.col(\"time_hour\").str.strptime(pl.Datetime))\n",
    "weather = weather.with_columns(pl.col(\"time_hour\").str.strptime(pl.Datetime))\n",
    "\n",
    "# Create SQL context\n",
    "ctx = pl.SQLContext(\n",
    "    airlines=airlines,\n",
    "    airports=airports,\n",
    "    flights=flights,\n",
    "    planes=planes,\n",
    "    weather=weather,\n",
    "    eager_execution=True\n",
    ")\n",
    "\n",
    "print(\"Setup complete! Tables available:\")\n",
    "print(ctx.execute(\"SHOW TABLES\"))"
   ]
  },
  {
   "cell_type": "markdown",
   "metadata": {},
   "source": [
    "## Exercise 1: Basic Queries\n",
    "\n",
    "### 1.1 Find all unique carriers in the airlines table"
   ]
  },
  {
   "cell_type": "code",
   "execution_count": null,
   "metadata": {},
   "outputs": [],
   "source": [
    "# Write your SQL query here\n",
    "result = ctx.execute(\"\"\"\n",
    "-- Your query here\n",
    "\"\"\")\n",
    "\n",
    "# print(result)"
   ]
  },
  {
   "cell_type": "markdown",
   "metadata": {},
   "source": [
    "### 1.2 Find the top 10 destinations by number of flights"
   ]
  },
  {
   "cell_type": "code",
   "execution_count": null,
   "metadata": {},
   "outputs": [],
   "source": [
    "# Write your SQL query here\n",
    "result = ctx.execute(\"\"\"\n",
    "-- Your query here\n",
    "\"\"\")\n",
    "\n",
    "# print(result)"
   ]
  },
  {
   "cell_type": "markdown",
   "metadata": {},
   "source": [
    "### 1.3 Find all flights that departed more than 2 hours late (120 minutes)"
   ]
  },
  {
   "cell_type": "code",
   "execution_count": null,
   "metadata": {},
   "outputs": [],
   "source": [
    "# Write your SQL query here\n",
    "result = ctx.execute(\"\"\"\n",
    "-- Your query here\n",
    "\"\"\")\n",
    "\n",
    "# print(result)"
   ]
  },
  {
   "cell_type": "markdown",
   "metadata": {},
   "source": [
    "## Exercise 2: Aggregation\n",
    "\n",
    "### 2.1 Calculate the average departure delay for each origin airport"
   ]
  },
  {
   "cell_type": "code",
   "execution_count": null,
   "metadata": {},
   "outputs": [],
   "source": [
    "# Write your SQL query here\n",
    "result = ctx.execute(\"\"\"\n",
    "-- Your query here\n",
    "\"\"\")\n",
    "\n",
    "# print(result)"
   ]
  },
  {
   "cell_type": "markdown",
   "metadata": {},
   "source": [
    "### 2.2 Find the busiest month of the year\n",
    "\n",
    "Count the number of flights per month and find which month has the most flights."
   ]
  },
  {
   "cell_type": "code",
   "execution_count": null,
   "metadata": {},
   "outputs": [],
   "source": [
    "# First, let's check what columns are available\n",
    "result = ctx.execute(\"\"\"\n",
    "    SELECT *\n",
    "    FROM flights\n",
    "    LIMIT 5\n",
    "\"\"\")\n",
    "# print(result)\n",
    "\n",
    "# Now write your query to find busiest month\n",
    "result = ctx.execute(\"\"\"\n",
    "-- Your query here\n",
    "\"\"\")\n",
    "\n",
    "# print(result)"
   ]
  },
  {
   "cell_type": "markdown",
   "metadata": {},
   "source": [
    "### 2.3 Calculate the on-time performance rate for each carrier\n",
    "\n",
    "Consider a flight on-time if the departure delay is <= 15 minutes."
   ]
  },
  {
   "cell_type": "code",
   "execution_count": null,
   "metadata": {},
   "outputs": [],
   "source": [
    "# Write your SQL query here\n",
    "result = ctx.execute(\"\"\"\n",
    "-- Your query here\n",
    "\"\"\")\n",
    "\n",
    "# print(result)"
   ]
  },
  {
   "cell_type": "markdown",
   "metadata": {},
   "source": [
    "## Exercise 3: Joins\n",
    "\n",
    "### 3.1 List all flights with their airline names (not just carrier codes)\n",
    "\n",
    "Show the first 20 flights with carrier code, airline name, flight number, origin, and destination."
   ]
  },
  {
   "cell_type": "code",
   "execution_count": null,
   "metadata": {},
   "outputs": [],
   "source": [
    "# Write your SQL query here\n",
    "result = ctx.execute(\"\"\"\n",
    "-- Your query here\n",
    "\"\"\")\n",
    "\n",
    "# print(result)"
   ]
  },
  {
   "cell_type": "markdown",
   "metadata": {},
   "source": [
    "### 3.2 Find the average age of planes for each carrier\n",
    "\n",
    "Hint: The planes table has a `year` column for manufacture year. Calculate age based on 2013."
   ]
  },
  {
   "cell_type": "code",
   "execution_count": null,
   "metadata": {},
   "outputs": [],
   "source": [
    "# Write your SQL query here\n",
    "result = ctx.execute(\"\"\"\n",
    "-- Your query here\n",
    "\"\"\")\n",
    "\n",
    "# print(result)"
   ]
  },
  {
   "cell_type": "markdown",
   "metadata": {},
   "source": [
    "### 3.3 Find flights that experienced both departure delays and bad weather\n",
    "\n",
    "Join flights with weather data and find flights where departure delay > 30 minutes and either wind_speed > 20 or precip > 0.1"
   ]
  },
  {
   "cell_type": "code",
   "execution_count": null,
   "metadata": {},
   "outputs": [],
   "source": [
    "# First, explore the weather table structure\n",
    "result = ctx.execute(\"\"\"\n",
    "    SELECT *\n",
    "    FROM weather\n",
    "    LIMIT 5\n",
    "\"\"\")\n",
    "# print(result)\n",
    "\n",
    "# Now write your join query\n",
    "result = ctx.execute(\"\"\"\n",
    "-- Your query here\n",
    "\"\"\")\n",
    "\n",
    "# print(result)"
   ]
  },
  {
   "cell_type": "markdown",
   "metadata": {},
   "source": [
    "## Exercise 4: Advanced Queries\n",
    "\n",
    "### 4.1 Find the most popular aircraft types (by number of flights)\n",
    "\n",
    "Join flights with planes to get manufacturer and model information. Show top 10."
   ]
  },
  {
   "cell_type": "code",
   "execution_count": null,
   "metadata": {},
   "outputs": [],
   "source": [
    "# Write your SQL query here\n",
    "result = ctx.execute(\"\"\"\n",
    "-- Your query here\n",
    "\"\"\")\n",
    "\n",
    "# print(result)"
   ]
  },
  {
   "cell_type": "markdown",
   "metadata": {},
   "source": [
    "### 4.2 Analyze route performance\n",
    "\n",
    "Find the top 10 routes (origin-destination pairs) with:\n",
    "- Total number of flights\n",
    "- Average departure delay\n",
    "- Percentage of flights delayed more than 30 minutes\n",
    "\n",
    "Include airport names, not just codes."
   ]
  },
  {
   "cell_type": "code",
   "execution_count": null,
   "metadata": {},
   "outputs": [],
   "source": [
    "# Write your SQL query here\n",
    "result = ctx.execute(\"\"\"\n",
    "-- Your query here\n",
    "\"\"\")\n",
    "\n",
    "# print(result)"
   ]
  },
  {
   "cell_type": "code",
   "execution_count": null,
   "metadata": {},
   "outputs": [],
   "source": [
    "# Write your SQL query here\n",
    "result = ctx.execute(\"\"\"\n",
    "-- Your query here\n",
    "\"\"\")\n",
    "\n",
    "# print(result)"
   ]
  },
  {
   "cell_type": "markdown",
   "metadata": {},
   "source": [
    "## Bonus: Compare with Polars\n",
    "\n",
    "### Choose one of the queries above and implement it using Polars\n",
    "\n",
    "This will help you understand the relationship between SQL and Polars operations."
   ]
  },
  {
   "cell_type": "code",
   "execution_count": null,
   "metadata": {},
   "outputs": [],
   "source": [
    "# Example: Let's implement Exercise 2.1 (average delay by origin) in Polars\n",
    "\n",
    "# SQL version (for reference)\n",
    "sql_result = ctx.execute(\"\"\"\n",
    "    SELECT \n",
    "        origin,\n",
    "        AVG(dep_delay) as avg_delay\n",
    "    FROM flights\n",
    "    WHERE dep_delay IS NOT NULL\n",
    "    GROUP BY origin\n",
    "    ORDER BY avg_delay DESC\n",
    "\"\"\")\n",
    "\n",
    "# Polars version\n",
    "polars_result = (\n",
    "    flights\n",
    "    .filter(pl.col('dep_delay').is_not_null())\n",
    "    .group_by('origin')\n",
    "    .agg(pl.col('dep_delay').mean().alias('avg_delay'))\n",
    "    .sort('avg_delay', descending=True)\n",
    ")\n",
    "\n",
    "print(\"SQL Result:\")\n",
    "print(sql_result)\n",
    "print(\"\\nPolars Result:\")\n",
    "print(polars_result)\n",
    "\n",
    "# Now implement one of your own queries in Polars below:\n",
    "# Your Polars code here"
   ]
  }
 ],
 "metadata": {
  "kernelspec": {
   "display_name": "Python 3",
   "language": "python",
   "name": "python3"
  },
  "language_info": {
   "codemirror_mode": {
    "name": "ipython",
    "version": 3
   },
   "file_extension": ".py",
   "mimetype": "text/x-python",
   "name": "python",
   "nbconvert_exporter": "python",
   "pygments_lexer": "ipython3",
   "version": "3.8.0"
  }
 },
 "nbformat": 4,
 "nbformat_minor": 4
}
